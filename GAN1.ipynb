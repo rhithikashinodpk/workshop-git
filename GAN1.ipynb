{
  "nbformat": 4,
  "nbformat_minor": 0,
  "metadata": {
    "colab": {
      "private_outputs": true,
      "provenance": [],
      "gpuType": "T4",
      "authorship_tag": "ABX9TyPpxrhVDZde3yTDi/bViwOR",
      "include_colab_link": true
    },
    "kernelspec": {
      "name": "python3",
      "display_name": "Python 3"
    },
    "language_info": {
      "name": "python"
    },
    "accelerator": "GPU"
  },
  "cells": [
    {
      "cell_type": "markdown",
      "metadata": {
        "id": "view-in-github",
        "colab_type": "text"
      },
      "source": [
        "<a href=\"https://colab.research.google.com/github/rhithikashinodpk/workshop-git/blob/main/GAN1.ipynb\" target=\"_parent\"><img src=\"https://colab.research.google.com/assets/colab-badge.svg\" alt=\"Open In Colab\"/></a>"
      ]
    },
    {
      "cell_type": "code",
      "source": [
        "import numpy as np\n",
        "import torch\n",
        "from torch import nn, optim\n",
        "import torchvision\n",
        "import torchvision.transforms as transforms\n",
        "from torch.utils.data import DataLoader\n",
        "import matplotlib.pyplot as plt\n",
        "import os"
      ],
      "metadata": {
        "id": "cxUjfiY-q0x_"
      },
      "execution_count": null,
      "outputs": []
    },
    {
      "cell_type": "code",
      "source": [
        "DEVICE = \"cuda\" if torch.cuda.is_available() else \"cpu\"\n",
        "LR = 1e-4\n",
        "Z_DIM = 64\n",
        "IMG_DIM = 28 * 28\n",
        "BS = 64\n",
        "EPOCHS = 10\n",
        "SAVE_DIR = \"generated_images\"\n",
        "os.makedirs(SAVE_DIR, exist_ok=True)"
      ],
      "metadata": {
        "id": "Y-z0CLPlq2G-"
      },
      "execution_count": null,
      "outputs": []
    },
    {
      "cell_type": "code",
      "source": [
        "class Discriminator(nn.Module):\n",
        "    def __init__(self, in_feature):\n",
        "        super().__init__()\n",
        "        self.disc = nn.Sequential(\n",
        "            nn.Linear(in_feature, 256),\n",
        "            nn.LeakyReLU(0.1),\n",
        "            nn.Linear(256, 256),\n",
        "            nn.LeakyReLU(0.1),\n",
        "            nn.Linear(256, 1),\n",
        "            nn.Sigmoid()\n",
        "        )\n",
        "\n",
        "    def forward(self, x):\n",
        "        return self.disc(x)\n"
      ],
      "metadata": {
        "id": "7oQqIInKq6C3"
      },
      "execution_count": null,
      "outputs": []
    },
    {
      "cell_type": "code",
      "source": [
        "class Generator(nn.Module):\n",
        "    def __init__(self, img_dim, z_dim):\n",
        "        super().__init__()\n",
        "        self.gen = nn.Sequential(\n",
        "            nn.Linear(z_dim, 256),\n",
        "            nn.LeakyReLU(0.1),\n",
        "            nn.Linear(256, 512),\n",
        "            nn.LeakyReLU(0.1),\n",
        "            nn.Linear(512, img_dim),\n",
        "            nn.Tanh()\n",
        "        )\n",
        "\n",
        "    def forward(self, x):\n",
        "        return self.gen(x)"
      ],
      "metadata": {
        "id": "FxOYMRoKq_Uk"
      },
      "execution_count": null,
      "outputs": []
    },
    {
      "cell_type": "code",
      "source": [
        "disc=Discriminator(IMG_DIM).to(DEVICE)\n",
        "gen=Generator(IMG_DIM,Z_DIM).to(DEVICE)\n",
        "fix_noise=torch.randn(BS,Z_DIM).to(DEVICE)\n",
        "transform = transforms.Compose([\n",
        "    transforms.RandomHorizontalFlip(),\n",
        "    transforms.ToTensor(),\n",
        "    transforms.Normalize((0.5,), (0.5,))\n",
        "])\n",
        "\n",
        "dataset = torchvision.datasets.FashionMNIST(\n",
        "    root='dataset/',\n",
        "    transform=transform,\n",
        "    download=True\n",
        ")\n",
        "loader = DataLoader(dataset, batch_size=BS, shuffle=True)"
      ],
      "metadata": {
        "id": "eCYEm6yKrGYs"
      },
      "execution_count": null,
      "outputs": []
    },
    {
      "cell_type": "code",
      "source": [
        "disc = Discriminator(IMG_DIM).to(DEVICE)\n",
        "gen = Generator(IMG_DIM, Z_DIM).to(DEVICE)\n",
        "opt_disc = optim.Adam(disc.parameters(), lr=LR)\n",
        "opt_gen = optim.Adam(gen.parameters(), lr=LR)\n",
        "loss = nn.BCELoss()"
      ],
      "metadata": {
        "id": "uYu1x6d_rL4G"
      },
      "execution_count": null,
      "outputs": []
    },
    {
      "cell_type": "code",
      "source": [
        "import matplotlib.pyplot as plt\n",
        "\n",
        "real, _ = next(iter(loader))  # Get a batch of real images\n",
        "\n",
        "fig, ax = plt.subplots(5, 5, figsize=(10, 10))  # Use subplots, not subplot\n",
        "plt.suptitle(\"Some real images\")  # Correct function name is suptitle\n",
        "\n",
        "ind = 0\n",
        "for k in range(5):\n",
        "    for kk in range(5):\n",
        "        ax[k, kk].imshow(real[ind][0].cpu(), cmap=\"gray\")  # Show the image\n",
        "        ax[k, kk].axis('off')  # Hide axis\n",
        "        ind += 1\n",
        "\n",
        "plt.tight_layout()\n",
        "plt.show()\n",
        "\n"
      ],
      "metadata": {
        "id": "pJk3AgjQ7N87"
      },
      "execution_count": null,
      "outputs": []
    },
    {
      "cell_type": "code",
      "source": [
        "def save_generated_images(fake, epoch):\n",
        "    fake = fake.reshape(-1, 1, 28, 28)\n",
        "    fake = (fake + 1) / 2  # Rescale [-1,1] to [0,1]\n",
        "    grid = torchvision.utils.make_grid(fake[:25], nrow=5)\n",
        "    plt.figure(figsize=(5, 5))\n",
        "    plt.axis(\"off\")\n",
        "    plt.title(f\"Epoch {epoch}\")\n",
        "    plt.imshow(grid.permute(1, 2, 0).cpu().detach().numpy())\n",
        "    plt.savefig(f\"{SAVE_DIR}/epoch_{epoch}.png\")\n",
        "    plt.close()"
      ],
      "metadata": {
        "id": "tc3bgL_7rS0W"
      },
      "execution_count": null,
      "outputs": []
    },
    {
      "cell_type": "code",
      "source": [
        "fix_noise = torch.randn(25, Z_DIM).to(DEVICE)  # Fixed noise for consistent visualization\n",
        "\n",
        "for epoch in range(EPOCHS):\n",
        "    for batch_idx, (real, _) in enumerate(loader):\n",
        "        real = real.view(-1, IMG_DIM).to(DEVICE)\n",
        "        batch_size = real.size(0)\n",
        "\n",
        "        # Generate fake images\n",
        "        noise = torch.randn(batch_size, Z_DIM).to(DEVICE)\n",
        "        fake = gen(noise)\n",
        "\n",
        "        # -------------------------\n",
        "        # Train Discriminator\n",
        "        # -------------------------\n",
        "        disc_real = disc(real).view(-1)\n",
        "        disc_fake = disc(fake.detach()).view(-1)\n",
        "\n",
        "        lossD_real = loss(disc_real, torch.ones_like(disc_real))\n",
        "        lossD_fake = loss(disc_fake, torch.zeros_like(disc_fake))\n",
        "        lossD = (lossD_real + lossD_fake) / 2\n",
        "\n",
        "        opt_disc.zero_grad()\n",
        "        lossD.backward()\n",
        "        opt_disc.step()\n",
        "\n",
        "        # -------------------------\n",
        "        # Train Generator\n",
        "        # -------------------------\n",
        "        output = disc(fake).view(-1)\n",
        "        lossG = loss(output, torch.ones_like(output))  # Generator tries to fool discriminator\n",
        "\n",
        "        opt_gen.zero_grad()\n",
        "        lossG.backward()\n",
        "        opt_gen.step()\n",
        "\n",
        "    # Print progress after each epoch\n",
        "    print(f\"Epoch [{epoch+1}/{EPOCHS}] | Loss D: {lossD.item():.4f} | Loss G: {lossG.item():.4f}\")\n",
        "\n",
        "    # -------------------------\n",
        "    # Save G\n"
      ],
      "metadata": {
        "id": "imHuT99jrW_4"
      },
      "execution_count": null,
      "outputs": []
    },
    {
      "cell_type": "code",
      "source": [
        "\n",
        "g_losses = []\n",
        "d_losses = []\n",
        "\n",
        "\n",
        "for epoch in range(EPOCHS):\n",
        "    ...\n",
        "    g_losses.append(lossG.item())\n",
        "    d_losses.append(lossD.item())\n",
        "    ...\n",
        "\n",
        "# Plot after training\n",
        "plt.figure(figsize=(10, 5))\n",
        "plt.plot(g_losses, label=\"Generator Loss\")\n",
        "plt.plot(d_losses, label=\"Discriminator Loss\")\n",
        "plt.xlabel(\"Epoch\")\n",
        "plt.ylabel(\"Loss\")\n",
        "plt.title(\"Generator and Discriminator Loss Over Epochs\")\n",
        "plt.legend()\n",
        "plt.grid(True)\n",
        "plt.show()\n"
      ],
      "metadata": {
        "id": "KU4nVBf7BmX6"
      },
      "execution_count": null,
      "outputs": []
    }
  ]
}