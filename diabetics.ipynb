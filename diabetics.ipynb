{
  "nbformat": 4,
  "nbformat_minor": 0,
  "metadata": {
    "colab": {
      "private_outputs": true,
      "provenance": [],
      "gpuType": "T4",
      "authorship_tag": "ABX9TyOj02d+7vL+bdBlXPkH6nfp",
      "include_colab_link": true
    },
    "kernelspec": {
      "name": "python3",
      "display_name": "Python 3"
    },
    "language_info": {
      "name": "python"
    },
    "accelerator": "GPU"
  },
  "cells": [
    {
      "cell_type": "markdown",
      "metadata": {
        "id": "view-in-github",
        "colab_type": "text"
      },
      "source": [
        "<a href=\"https://colab.research.google.com/github/rhithikashinodpk/workshop-git/blob/main/diabetics.ipynb\" target=\"_parent\"><img src=\"https://colab.research.google.com/assets/colab-badge.svg\" alt=\"Open In Colab\"/></a>"
      ]
    },
    {
      "cell_type": "code",
      "source": [
        "import numpy as np\n",
        "import pandas as pd\n",
        "import matplotlib.pyplot as plt\n",
        "from sklearn.preprocessing import StandardScaler\n",
        "import seaborn as sns\n",
        "from sklearn.model_selection import train_test_split\n",
        "from sklearn import svm\n",
        "from sklearn.metrics import accuracy_score"
      ],
      "metadata": {
        "id": "dLT6NL28KOib"
      },
      "execution_count": null,
      "outputs": []
    },
    {
      "cell_type": "code",
      "source": [
        "diabetes=pd.read_csv('/content/diabetess.csv')\n"
      ],
      "metadata": {
        "id": "J4wGQdXeKYQH"
      },
      "execution_count": null,
      "outputs": []
    },
    {
      "cell_type": "code",
      "source": [
        "pd.read_csv\n"
      ],
      "metadata": {
        "id": "PMWCTAjpKi-8",
        "collapsed": true
      },
      "execution_count": null,
      "outputs": []
    },
    {
      "cell_type": "code",
      "source": [
        "diabetes.head()\n"
      ],
      "metadata": {
        "id": "zwUbzdRFxee8",
        "collapsed": true
      },
      "execution_count": null,
      "outputs": []
    },
    {
      "cell_type": "code",
      "source": [
        "diabetes.shape"
      ],
      "metadata": {
        "id": "XNp0JcPgxsf2"
      },
      "execution_count": null,
      "outputs": []
    },
    {
      "cell_type": "code",
      "source": [
        "diabetes.describe()"
      ],
      "metadata": {
        "id": "DUKnpnT0yCti",
        "collapsed": true
      },
      "execution_count": null,
      "outputs": []
    },
    {
      "cell_type": "code",
      "source": [
        "diabetes['Outcome'].value_counts()"
      ],
      "metadata": {
        "id": "4AtlhVsdyIvA",
        "collapsed": true
      },
      "execution_count": null,
      "outputs": []
    },
    {
      "source": [
        "diabetes.groupby('Outcome').mean(numeric_only=True)\n"
      ],
      "cell_type": "code",
      "metadata": {
        "id": "Cfmv5SwJzZXe",
        "collapsed": true
      },
      "execution_count": null,
      "outputs": []
    },
    {
      "cell_type": "code",
      "source": [
        "#seperating the dataset snd label\n",
        "x=diabetes.drop(columns='Outcome',axis=1)\n",
        "y=diabetes['Outcome']\n",
        "print(x)\n",
        "print(y)"
      ],
      "metadata": {
        "id": "vSShMKUGzerb",
        "collapsed": true
      },
      "execution_count": null,
      "outputs": []
    },
    {
      "cell_type": "code",
      "source": [
        "#scaler = StandardScaler()"
      ],
      "metadata": {
        "id": "-_4pyNSFYO79"
      },
      "execution_count": null,
      "outputs": []
    },
    {
      "cell_type": "code",
      "source": [
        "#scaler.fit(x)"
      ],
      "metadata": {
        "id": "uk36ASohYc6p"
      },
      "execution_count": null,
      "outputs": []
    },
    {
      "cell_type": "code",
      "source": [
        "#standardized_data = scaler.transform(x)"
      ],
      "metadata": {
        "id": "NrVQrZLIYiTD"
      },
      "execution_count": null,
      "outputs": []
    },
    {
      "cell_type": "code",
      "source": [
        "#print(standardized_data)"
      ],
      "metadata": {
        "id": "DB7wztg5Ymfj"
      },
      "execution_count": null,
      "outputs": []
    },
    {
      "cell_type": "code",
      "source": [
        "#x = standardized_data\n",
        "#y = diabetes['Outcome']"
      ],
      "metadata": {
        "id": "Ew1pJdrCYxyJ"
      },
      "execution_count": null,
      "outputs": []
    },
    {
      "cell_type": "code",
      "source": [
        "#train test split\n",
        "x_train,x_test,y_train,y_test=train_test_split(x,y,test_size=0.2,stratify=y,random_state=2)"
      ],
      "metadata": {
        "id": "vaZXdjm71UWW"
      },
      "execution_count": null,
      "outputs": []
    },
    {
      "cell_type": "code",
      "source": [
        "print(x.shape,x_train.shape,x_test.shape)"
      ],
      "metadata": {
        "id": "dKb2uuuq1gbp"
      },
      "execution_count": null,
      "outputs": []
    },
    {
      "cell_type": "code",
      "source": [
        "#training the model\n",
        "classifier=svm.SVC(kernel='linear')"
      ],
      "metadata": {
        "id": "wOr0rb7S1q7c"
      },
      "execution_count": null,
      "outputs": []
    },
    {
      "cell_type": "code",
      "source": [
        "#training the support vector Machine Classifier\n",
        "classifier.fit(x_train, y_train)"
      ],
      "metadata": {
        "id": "59xB4HkYXsyt"
      },
      "execution_count": null,
      "outputs": []
    },
    {
      "cell_type": "code",
      "source": [
        "# accuracy score on the training data\n",
        "x_train_prediction = classifier.predict(x_train)\n",
        "training_data_accuracy = accuracy_score(x_train_prediction, y_train)"
      ],
      "metadata": {
        "id": "bRabtsoMWThu"
      },
      "execution_count": null,
      "outputs": []
    },
    {
      "cell_type": "code",
      "source": [
        "print('Accuracy score of the training data : ', training_data_accuracy)"
      ],
      "metadata": {
        "id": "7OHjSQRgWU4B"
      },
      "execution_count": null,
      "outputs": []
    },
    {
      "cell_type": "code",
      "source": [
        "# accuracy score on the test data\n",
        "x_test_prediction = classifier.predict(x_test)\n",
        "test_data_accuracy = accuracy_score(x_test_prediction, y_test)"
      ],
      "metadata": {
        "id": "MXxZVqmIWZYB"
      },
      "execution_count": null,
      "outputs": []
    },
    {
      "cell_type": "code",
      "source": [
        "print('Accuracy score of the test data : ', test_data_accuracy)"
      ],
      "metadata": {
        "id": "sZ3W46ThWctL"
      },
      "execution_count": null,
      "outputs": []
    },
    {
      "source": [
        "input_data = (5,166,72,19,175,25.8,0.587,51)\n",
        "\n",
        "# changing the input_data to numpy array\n",
        "input_data_as_numpy_array = np.asarray(input_data)\n",
        "\n",
        "# reshape the array as we are predicting for one instance\n",
        "input_data_reshaped = input_data_as_numpy_array.reshape(1,-1)\n",
        "\n",
        "# standardize the input data\n",
        "# The 'scaler' variable was not defined or fitted in the provided code.\n",
        "# You need to define and fit the scaler before using it.\n"
      ],
      "cell_type": "code",
      "metadata": {
        "id": "1waxZIPfvyNp"
      },
      "execution_count": null,
      "outputs": []
    },
    {
      "source": [
        "plt.plot(y_test,color='blue',label='Actual Value')\n",
        "plt.plot(x_test_prediction,color='green',label='Predicted Value') # Changed test_data_prediction to x_test_prediction\n",
        "plt.title('Actual  vs Predicted ')\n",
        "plt.xlabel('Number of value')\n",
        "plt.ylabel('diabetes')\n",
        "plt.legend()\n",
        "plt.show()"
      ],
      "cell_type": "code",
      "metadata": {
        "id": "j2QdOYC4aYs2"
      },
      "execution_count": null,
      "outputs": []
    },
    {
      "cell_type": "code",
      "source": [
        "#saving the trained model\n",
        "import pickle\n",
        ""
      ],
      "metadata": {
        "id": "IU40VvIval5C"
      },
      "execution_count": null,
      "outputs": []
    },
    {
      "cell_type": "code",
      "source": [
        "filename='trained_model.sav'\n",
        "pickle.dump(classifier,open(filename,'wb'))"
      ],
      "metadata": {
        "id": "0pJa_J8PbxEF"
      },
      "execution_count": null,
      "outputs": []
    },
    {
      "cell_type": "code",
      "source": [
        "#loading the saved model\n",
        "loaded_model=pickle.load(open('trained_model.sav','rb'))"
      ],
      "metadata": {
        "id": "6_ku0nD_b2MH"
      },
      "execution_count": null,
      "outputs": []
    },
    {
      "cell_type": "code",
      "source": [
        "input_data = (5,166,72,19,175,25.8,0.587,51)\n",
        "\n",
        "# changing the input_data to numpy array\n",
        "input_data_as_numpy_array = np.asarray(input_data)\n",
        "\n",
        "# reshape the array as we are predicting for one instance\n",
        "input_data_reshaped = input_data_as_numpy_array.reshape(1,-1)\n",
        "\n",
        "# standardize the input data\n",
        "#std_data = scaler.transform(input_data_reshaped)\n",
        "#print(std_data)\n",
        "\n",
        "# Assign the output of classifier.predict to the variable prediction\n",
        "prediction = loaded_model.predict(input_data_reshaped)\n",
        "print(prediction)\n",
        "\n",
        "if (prediction[0] == 0):\n",
        "  print('The person is not diabetic')\n",
        "else:\n",
        "  print('The person is diabetic')"
      ],
      "metadata": {
        "id": "CCjhd-hYcuhF"
      },
      "execution_count": null,
      "outputs": []
    }
  ]
}