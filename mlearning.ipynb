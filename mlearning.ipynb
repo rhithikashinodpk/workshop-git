{
  "nbformat": 4,
  "nbformat_minor": 0,
  "metadata": {
    "colab": {
      "private_outputs": true,
      "provenance": [],
      "authorship_tag": "ABX9TyMXeOJFJBwzE8DUeNeSUgy1",
      "include_colab_link": true
    },
    "kernelspec": {
      "name": "python3",
      "display_name": "Python 3"
    },
    "language_info": {
      "name": "python"
    }
  },
  "cells": [
    {
      "cell_type": "markdown",
      "metadata": {
        "id": "view-in-github",
        "colab_type": "text"
      },
      "source": [
        "<a href=\"https://colab.research.google.com/github/rhithikashinodpk/workshop-git/blob/main/mlearning.ipynb\" target=\"_parent\"><img src=\"https://colab.research.google.com/assets/colab-badge.svg\" alt=\"Open In Colab\"/></a>"
      ]
    },
    {
      "cell_type": "code",
      "execution_count": null,
      "metadata": {
        "id": "LEd3m3F6w_T7"
      },
      "outputs": [],
      "source": [
        "import numpy as np\n",
        "import pandas as pd\n",
        "import matplotlib.pyplot as plt\n",
        "import seaborn as sns\n",
        "from sklearn.model_selection import train_test_split\n",
        "from sklearn.ensemble import RandomForestRegressor\n",
        "from sklearn import metrics\n"
      ]
    },
    {
      "cell_type": "code",
      "source": [
        "#load the csv data to a pandas Dataframe\n",
        "gold_data=pd.read_csv('/content/GoldPrice.csv')\n"
      ],
      "metadata": {
        "id": "HRg4zsDHxp28"
      },
      "execution_count": null,
      "outputs": []
    },
    {
      "cell_type": "code",
      "source": [
        "#print 10 data\n",
        "gold_data.head(10)\n",
        "\n"
      ],
      "metadata": {
        "id": "nivpzNLLzdPe"
      },
      "execution_count": null,
      "outputs": []
    },
    {
      "cell_type": "code",
      "source": [
        "#last 5 rows of dataset\n",
        "gold_data.tail(10)"
      ],
      "metadata": {
        "id": "61PftVAzz1eh"
      },
      "execution_count": null,
      "outputs": []
    },
    {
      "cell_type": "code",
      "source": [
        "#number of rows and coloums\n",
        "gold_data.shape"
      ],
      "metadata": {
        "id": "qMe_nXQH0fxF"
      },
      "execution_count": null,
      "outputs": []
    },
    {
      "cell_type": "code",
      "source": [
        "gold_data.isnull().sum()\n"
      ],
      "metadata": {
        "id": "97CrcoHN0nqK"
      },
      "execution_count": null,
      "outputs": []
    },
    {
      "cell_type": "code",
      "source": [
        "#getting thee statistical measures of the data\n",
        "gold_data.describe()"
      ],
      "metadata": {
        "id": "QI4JHxU_AEy-"
      },
      "execution_count": null,
      "outputs": []
    },
    {
      "source": [
        "#correlation\n",
        "correlation=gold_data.drop('Date', axis=1).corr() # Drop the 'Date' column before calculating correlation"
      ],
      "cell_type": "code",
      "metadata": {
        "id": "mhXVJjiCA5HX"
      },
      "execution_count": null,
      "outputs": []
    },
    {
      "cell_type": "code",
      "source": [
        "#constructing a heatmap to understand the ccorrelation\n",
        "plt.figure(figsize=(8,8))\n",
        "sns.heatmap(correlation, cbar=True, square=True, fmt='.1f', annot=True, annot_kws={'size':8}, cmap='Blues')"
      ],
      "metadata": {
        "id": "ZeCcFTEWA-7O"
      },
      "execution_count": null,
      "outputs": []
    },
    {
      "cell_type": "code",
      "source": [
        "print(correlation['Price'])"
      ],
      "metadata": {
        "id": "n2rFjC01BwoH"
      },
      "execution_count": null,
      "outputs": []
    },
    {
      "cell_type": "code",
      "source": [
        "#CHECKING THE DISTRUBUTION\n",
        "sns.displot(gold_data['Price'],color='green')"
      ],
      "metadata": {
        "id": "0m2E_jCTCwUO"
      },
      "execution_count": null,
      "outputs": []
    },
    {
      "cell_type": "code",
      "source": [
        "x=gold_data.drop(['Date','Price'],axis=1)\n",
        "y=gold_data['Price']"
      ],
      "metadata": {
        "id": "HuyfzILwDzdj"
      },
      "execution_count": null,
      "outputs": []
    },
    {
      "cell_type": "code",
      "source": [
        "print(x)"
      ],
      "metadata": {
        "id": "0Vnwe6zbD-ZQ"
      },
      "execution_count": null,
      "outputs": []
    },
    {
      "cell_type": "code",
      "source": [
        "print(y)"
      ],
      "metadata": {
        "id": "agHt6cO7EK3x"
      },
      "execution_count": null,
      "outputs": []
    },
    {
      "cell_type": "code",
      "source": [
        "#splitimg into training and test data\n",
        "x_train,x_test,y_train,y_test=train_test_split(x,y,test_size=0.2,random_state=2)"
      ],
      "metadata": {
        "id": "-5k2ABlYEQAP"
      },
      "execution_count": null,
      "outputs": []
    },
    {
      "cell_type": "code",
      "source": [
        "#train the model\n",
        "regressor=RandomForestRegressor(n_estimators=100)\n"
      ],
      "metadata": {
        "id": "g0HTng-gFgnu"
      },
      "execution_count": null,
      "outputs": []
    },
    {
      "cell_type": "code",
      "source": [
        "regressor.fit(x_train,y_train)"
      ],
      "metadata": {
        "id": "en9xu5LaGxss"
      },
      "execution_count": null,
      "outputs": []
    },
    {
      "cell_type": "code",
      "source": [
        "#model evaluatio\n",
        "#predictiom on test data\n",
        "test_data_prediction=regressor.predict(x_test)"
      ],
      "metadata": {
        "id": "W-nkE01DHSE3"
      },
      "execution_count": null,
      "outputs": []
    },
    {
      "cell_type": "code",
      "source": [
        "print(test_data_prediction)"
      ],
      "metadata": {
        "id": "sllEnAUYHjVW"
      },
      "execution_count": null,
      "outputs": []
    },
    {
      "cell_type": "code",
      "source": [
        "# r squared error\n",
        "error_score=metrics.r2_score(y_test,test_data_prediction)\n",
        "print(\"R squared error : \",error_score)"
      ],
      "metadata": {
        "id": "fWHATQ_AHs9V"
      },
      "execution_count": null,
      "outputs": []
    },
    {
      "cell_type": "code",
      "source": [
        "#compare the actual value and predicted value\n",
        "y_test=list(y_test)"
      ],
      "metadata": {
        "id": "rpwDW8xRH0w_"
      },
      "execution_count": null,
      "outputs": []
    },
    {
      "cell_type": "code",
      "source": [
        "plt.plot(y_test,color='blue',label='Actual Value')\n",
        "plt.plot(test_data_prediction,color='green',label='Predicted Value')\n",
        "plt.title('Actual Price vs Predicted Price')\n",
        "plt.xlabel('Number of values')\n",
        "plt.ylabel('gold Price')\n",
        "plt.legend()\n",
        "plt.show()"
      ],
      "metadata": {
        "id": "X2NcRXcCIt0X"
      },
      "execution_count": null,
      "outputs": []
    }
  ]
}